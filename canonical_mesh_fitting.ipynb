{
  "cells": [
    {
      "cell_type": "code",
      "execution_count": null,
      "metadata": {
        "id": "_Ip8kp4TfBLZ"
      },
      "outputs": [],
      "source": [
        "# Copyright (c) Meta Platforms, Inc. and affiliates. All rights reserved."
      ]
    },
    {
      "cell_type": "markdown",
      "metadata": {
        "id": "kuXHJv44fBLe"
      },
      "source": [
        "# Fit a mesh via rendering\n",
        "\n",
        "This tutorial shows how to:\n",
        "- Load a mesh and textures from an `.obj` file.\n",
        "- Create a synthetic dataset by rendering a textured mesh from multiple viewpoints\n",
        "- Fit a mesh to the observed synthetic images using differential silhouette rendering\n",
        "- Fit a mesh and its textures using differential textured rendering"
      ]
    },
    {
      "cell_type": "markdown",
      "metadata": {
        "id": "Bnj3THhzfBLf"
      },
      "source": [
        "## 0. Install and Import modules"
      ]
    },
    {
      "cell_type": "markdown",
      "metadata": {
        "id": "okLalbR_g7NS"
      },
      "source": [
        "Ensure `torch` and `torchvision` are installed. If `pytorch3d` is not installed, install it using the following cell:"
      ]
    },
    {
      "cell_type": "code",
      "execution_count": null,
      "metadata": {
        "id": "musUWTglgxSB",
        "colab": {
          "base_uri": "https://localhost:8080/"
        },
        "outputId": "fb029081-60da-4ab7-eaf5-e38fd7b9b2f6"
      },
      "outputs": [
        {
          "output_type": "stream",
          "name": "stdout",
          "text": [
            "Requirement already satisfied: fvcore in /usr/local/lib/python3.10/dist-packages (0.1.5.post20221221)\n",
            "Requirement already satisfied: iopath in /usr/local/lib/python3.10/dist-packages (0.1.10)\n",
            "Requirement already satisfied: numpy in /usr/local/lib/python3.10/dist-packages (from fvcore) (1.23.5)\n",
            "Requirement already satisfied: yacs>=0.1.6 in /usr/local/lib/python3.10/dist-packages (from fvcore) (0.1.8)\n",
            "Requirement already satisfied: pyyaml>=5.1 in /usr/local/lib/python3.10/dist-packages (from fvcore) (6.0.1)\n",
            "Requirement already satisfied: tqdm in /usr/local/lib/python3.10/dist-packages (from fvcore) (4.66.1)\n",
            "Requirement already satisfied: termcolor>=1.1 in /usr/local/lib/python3.10/dist-packages (from fvcore) (2.4.0)\n",
            "Requirement already satisfied: Pillow in /usr/local/lib/python3.10/dist-packages (from fvcore) (9.4.0)\n",
            "Requirement already satisfied: tabulate in /usr/local/lib/python3.10/dist-packages (from fvcore) (0.9.0)\n",
            "Requirement already satisfied: typing-extensions in /usr/local/lib/python3.10/dist-packages (from iopath) (4.5.0)\n",
            "Requirement already satisfied: portalocker in /usr/local/lib/python3.10/dist-packages (from iopath) (2.8.2)\n",
            "Looking in links: https://dl.fbaipublicfiles.com/pytorch3d/packaging/wheels/py310_cu121_pyt210/download.html\n",
            "\u001b[31mERROR: Could not find a version that satisfies the requirement pytorch3d (from versions: none)\u001b[0m\u001b[31m\n",
            "\u001b[0m\u001b[31mERROR: No matching distribution found for pytorch3d\u001b[0m\u001b[31m\n",
            "\u001b[0m"
          ]
        }
      ],
      "source": [
        "import os\n",
        "import sys\n",
        "import torch\n",
        "import torch.nn as nn\n",
        "import torch.nn.functional as F\n",
        "import torch.optim as optim\n",
        "\n",
        "need_pytorch3d=False\n",
        "try:\n",
        "    import pytorch3d\n",
        "except ModuleNotFoundError:\n",
        "    need_pytorch3d=True\n",
        "if need_pytorch3d:\n",
        "    if torch.__version__.startswith(\"2.1.\") and sys.platform.startswith(\"linux\"):\n",
        "        # We try to install PyTorch3D via a released wheel.\n",
        "        pyt_version_str=torch.__version__.split(\"+\")[0].replace(\".\", \"\")\n",
        "        version_str=\"\".join([\n",
        "            f\"py3{sys.version_info.minor}_cu\",\n",
        "            torch.version.cuda.replace(\".\",\"\"),\n",
        "            f\"_pyt{pyt_version_str}\"\n",
        "        ])\n",
        "        !pip install fvcore iopath\n",
        "        !pip install --no-index --no-cache-dir pytorch3d -f https://dl.fbaipublicfiles.com/pytorch3d/packaging/wheels/{version_str}/download.html\n",
        "    else:\n",
        "        # We try to install PyTorch3D from source.\n",
        "        !pip install 'git+https://github.com/facebookresearch/pytorch3d.git@stable'"
      ]
    },
    {
      "cell_type": "code",
      "execution_count": null,
      "metadata": {
        "id": "nX99zdoffBLg",
        "colab": {
          "base_uri": "https://localhost:8080/",
          "height": 397
        },
        "outputId": "09ac8974-aaca-4a36-b50f-8ddb1924feac"
      },
      "outputs": [
        {
          "output_type": "error",
          "ename": "ModuleNotFoundError",
          "evalue": "ignored",
          "traceback": [
            "\u001b[0;31m---------------------------------------------------------------------------\u001b[0m",
            "\u001b[0;31mModuleNotFoundError\u001b[0m                       Traceback (most recent call last)",
            "\u001b[0;32m<ipython-input-4-e79d85fd443d>\u001b[0m in \u001b[0;36m<cell line: 5>\u001b[0;34m()\u001b[0m\n\u001b[1;32m      3\u001b[0m \u001b[0;32mimport\u001b[0m \u001b[0mmatplotlib\u001b[0m\u001b[0;34m.\u001b[0m\u001b[0mpyplot\u001b[0m \u001b[0;32mas\u001b[0m \u001b[0mplt\u001b[0m\u001b[0;34m\u001b[0m\u001b[0;34m\u001b[0m\u001b[0m\n\u001b[1;32m      4\u001b[0m \u001b[0;34m\u001b[0m\u001b[0m\n\u001b[0;32m----> 5\u001b[0;31m \u001b[0;32mfrom\u001b[0m \u001b[0mpytorch3d\u001b[0m\u001b[0;34m.\u001b[0m\u001b[0mutils\u001b[0m \u001b[0;32mimport\u001b[0m \u001b[0mico_sphere\u001b[0m\u001b[0;34m\u001b[0m\u001b[0;34m\u001b[0m\u001b[0m\n\u001b[0m\u001b[1;32m      6\u001b[0m \u001b[0;32mimport\u001b[0m \u001b[0mnumpy\u001b[0m \u001b[0;32mas\u001b[0m \u001b[0mnp\u001b[0m\u001b[0;34m\u001b[0m\u001b[0;34m\u001b[0m\u001b[0m\n\u001b[1;32m      7\u001b[0m \u001b[0;32mfrom\u001b[0m \u001b[0mtqdm\u001b[0m\u001b[0;34m.\u001b[0m\u001b[0mnotebook\u001b[0m \u001b[0;32mimport\u001b[0m \u001b[0mtqdm\u001b[0m\u001b[0;34m\u001b[0m\u001b[0;34m\u001b[0m\u001b[0m\n",
            "\u001b[0;31mModuleNotFoundError\u001b[0m: No module named 'pytorch3d'",
            "",
            "\u001b[0;31m---------------------------------------------------------------------------\u001b[0;32m\nNOTE: If your import is failing due to a missing package, you can\nmanually install dependencies using either !pip or !apt.\n\nTo view examples of installing some common dependencies, click the\n\"Open Examples\" button below.\n\u001b[0;31m---------------------------------------------------------------------------\u001b[0m\n"
          ],
          "errorDetails": {
            "actions": [
              {
                "action": "open_url",
                "actionText": "Open Examples",
                "url": "/notebooks/snippets/importing_libraries.ipynb"
              }
            ]
          }
        }
      ],
      "source": [
        "import os\n",
        "import torch\n",
        "import matplotlib.pyplot as plt\n",
        "\n",
        "from pytorch3d.utils import ico_sphere\n",
        "import numpy as np\n",
        "from tqdm.notebook import tqdm\n",
        "\n",
        "# Util function for loading meshes\n",
        "from pytorch3d.io import load_objs_as_meshes, save_obj\n",
        "\n",
        "from pytorch3d.loss import (\n",
        "    chamfer_distance,\n",
        "    mesh_edge_loss,\n",
        "    mesh_laplacian_smoothing,\n",
        "    mesh_normal_consistency,\n",
        ")\n",
        "\n",
        "# Data structures and functions for rendering\n",
        "from pytorch3d.structures import Meshes\n",
        "from pytorch3d.renderer import (\n",
        "    look_at_view_transform,\n",
        "    FoVPerspectiveCameras,\n",
        "    PointLights,\n",
        "    DirectionalLights,\n",
        "    Materials,\n",
        "    RasterizationSettings,\n",
        "    MeshRenderer,\n",
        "    MeshRasterizer,\n",
        "    SoftPhongShader,\n",
        "    SoftSilhouetteShader,\n",
        "    SoftPhongShader,\n",
        "    TexturesVertex\n",
        ")\n",
        "\n",
        "# add path for demo utils functions\n",
        "import sys\n",
        "import os\n",
        "sys.path.append(os.path.abspath(''))"
      ]
    },
    {
      "cell_type": "markdown",
      "metadata": {
        "id": "Lxmehq6Zhrzv"
      },
      "source": [
        "If using **Google Colab**, fetch the utils file for plotting image grids:"
      ]
    },
    {
      "cell_type": "code",
      "execution_count": null,
      "metadata": {
        "id": "HZozr3Pmho-5"
      },
      "outputs": [],
      "source": [
        "! wget https://raw.githubusercontent.com/facebookresearch/pytorch3d/main/docs/tutorials/utils/plot_image_grid.py\n",
        "from plot_image_grid import image_grid"
      ]
    },
    {
      "cell_type": "markdown",
      "metadata": {
        "id": "g4B62MzYiJUM"
      },
      "source": [
        "OR if running **locally** uncomment and run the following cell:"
      ]
    },
    {
      "cell_type": "code",
      "execution_count": null,
      "metadata": {
        "id": "paJ4Im8ahl7O"
      },
      "outputs": [],
      "source": [
        "#  from utils.plot_image_grid import image_grid"
      ]
    },
    {
      "cell_type": "markdown",
      "metadata": {
        "collapsed": true,
        "id": "5jGq772XfBLk"
      },
      "source": [
        "### 1. Load a mesh and texture file\n",
        "\n",
        "Load an `.obj` file and its associated `.mtl` file and create a **Textures** and **Meshes** object.\n",
        "\n",
        "**Meshes** is a unique datastructure provided in PyTorch3D for working with batches of meshes of different sizes.\n",
        "\n",
        "**TexturesVertex** is an auxiliary datastructure for storing vertex rgb texture information about meshes.\n",
        "\n",
        "**Meshes** has several class methods which are used throughout the rendering pipeline."
      ]
    },
    {
      "cell_type": "markdown",
      "metadata": {
        "id": "a8eU4zo5jd_H"
      },
      "source": [
        "If running this notebook using **Google Colab**, run the following cell to fetch the mesh obj and texture files and save it at the path `data/cow_mesh`:\n",
        "If running locally, the data is already available at the correct path."
      ]
    },
    {
      "cell_type": "code",
      "execution_count": null,
      "metadata": {
        "id": "tTm0cVuOjb1W"
      },
      "outputs": [],
      "source": [
        "!mkdir -p data/cow_mesh\n",
        "!wget -P data/cow_mesh https://dl.fbaipublicfiles.com/pytorch3d/data/cow_mesh/cow.obj\n",
        "!wget -P data/cow_mesh https://dl.fbaipublicfiles.com/pytorch3d/data/cow_mesh/cow.mtl\n",
        "!wget -P data/cow_mesh https://dl.fbaipublicfiles.com/pytorch3d/data/cow_mesh/cow_texture.png"
      ]
    },
    {
      "cell_type": "code",
      "execution_count": null,
      "metadata": {
        "id": "gi5Kd0GafBLl"
      },
      "outputs": [],
      "source": [
        "# Setup\n",
        "if torch.cuda.is_available():\n",
        "    device = torch.device(\"cuda:0\")\n",
        "    torch.cuda.set_device(device)\n",
        "else:\n",
        "    device = torch.device(\"cpu\")\n",
        "\n",
        "# Set paths\n",
        "DATA_DIR = \"./data\"\n",
        "obj_filename = os.path.join(DATA_DIR, \"cow_mesh/cow.obj\")\n",
        "\n",
        "# Load obj file\n",
        "mesh = load_objs_as_meshes([obj_filename], device=device)\n",
        "\n",
        "# We scale normalize and center the target mesh to fit in a sphere of radius 1\n",
        "# centered at (0,0,0). (scale, center) will be used to bring the predicted mesh\n",
        "# to its original center and scale.  Note that normalizing the target mesh,\n",
        "# speeds up the optimization but is not necessary!\n",
        "verts = mesh.verts_packed()\n",
        "N = verts.shape[0]\n",
        "center = verts.mean(0)\n",
        "scale = max((verts - center).abs().max(0)[0])\n",
        "mesh.offset_verts_(-center)\n",
        "mesh.scale_verts_((1.0 / float(scale)));"
      ]
    },
    {
      "cell_type": "markdown",
      "metadata": {
        "id": "17c4xmtyfBMH"
      },
      "source": [
        "## 2. Dataset Creation\n",
        "\n",
        "We sample different camera positions that encode multiple viewpoints of the cow.  We create a renderer with a shader that performs texture map interpolation.  We render a synthetic dataset of images of the textured cow mesh from multiple viewpoints.\n"
      ]
    },
    {
      "cell_type": "code",
      "source": [
        "import locale\n",
        "locale.getpreferredencoding = lambda: \"UTF-8\"\n",
        "!pip install kornia"
      ],
      "metadata": {
        "id": "sT8o73Sux6PA"
      },
      "execution_count": null,
      "outputs": []
    },
    {
      "cell_type": "code",
      "execution_count": null,
      "metadata": {
        "id": "CDQKebNNfBMI"
      },
      "outputs": [],
      "source": [
        "# the number of different viewpoints from which we want to render the mesh.\n",
        "num_views = 20\n",
        "\n",
        "# Get a batch of viewing angles.\n",
        "elev = torch.linspace(0, 360, num_views)\n",
        "azim = torch.linspace(-180, 180, num_views)\n",
        "\n",
        "# Place a point light in front of the object. As mentioned above, the front of\n",
        "# the cow is facing the -z direction.\n",
        "lights = PointLights(device=device, location=[[0.0, 0.0, -3.0]])\n",
        "\n",
        "# Initialize an OpenGL perspective camera that represents a batch of different\n",
        "# viewing angles. All the cameras helper methods support mixed type inputs and\n",
        "# broadcasting. So we can view the camera from the a distance of dist=2.7, and\n",
        "# then specify elevation and azimuth angles for each viewpoint as tensors.\n",
        "R, T = look_at_view_transform(dist=2.7, elev=elev, azim=azim)\n",
        "print(R.shape)\n",
        "cameras = FoVPerspectiveCameras(device=device, R=R, T=T)\n",
        "\n",
        "# We arbitrarily choose one particular view that will be used to visualize\n",
        "# results\n",
        "camera = FoVPerspectiveCameras(device=device, R=R[None, 1, ...],\n",
        "                                  T=T[None, 1, ...])\n",
        "\n",
        "# Define the settings for rasterization and shading. Here we set the output\n",
        "# image to be of size 128X128. As we are rendering images for visualization\n",
        "# purposes only we will set faces_per_pixel=1 and blur_radius=0.0. Refer to\n",
        "# rasterize_meshes.py for explanations of these parameters.  We also leave\n",
        "# bin_size and max_faces_per_bin to their default values of None, which sets\n",
        "# their values using heuristics and ensures that the faster coarse-to-fine\n",
        "# rasterization method is used.  Refer to docs/notes/renderer.md for an\n",
        "# explanation of the difference between naive and coarse-to-fine rasterization.\n",
        "raster_settings = RasterizationSettings(\n",
        "    image_size=128,\n",
        "    blur_radius=0.0,\n",
        "    faces_per_pixel=1,\n",
        ")\n",
        "\n",
        "# Create a Phong renderer by composing a rasterizer and a shader. The textured\n",
        "# Phong shader will interpolate the texture uv coordinates for each vertex,\n",
        "# sample from a texture image and apply the Phong lighting model\n",
        "renderer = MeshRenderer(\n",
        "    rasterizer=MeshRasterizer(\n",
        "        cameras=camera,\n",
        "        raster_settings=raster_settings\n",
        "    ),\n",
        "    shader=SoftPhongShader(\n",
        "        device=device,\n",
        "        cameras=camera,\n",
        "        lights=lights\n",
        "    )\n",
        ")\n",
        "\n",
        "# Create a batch of meshes by repeating the cow mesh and associated textures.\n",
        "# Meshes has a useful `extend` method which allows us do this very easily.\n",
        "# This also extends the textures.\n",
        "meshes = mesh.extend(num_views)\n",
        "\n",
        "# Render the cow mesh from each viewing angle\n",
        "target_images = renderer(meshes, cameras=cameras, lights=lights)\n",
        "\n",
        "print(target_images.shape)\n",
        "\n",
        "# Our multi-view cow dataset will be represented by these 2 lists of tensors,\n",
        "# each of length num_views.\n",
        "target_rgb = [target_images[i, ..., :3] for i in range(num_views)]\n",
        "print(R[None, 0, ...].shape)\n",
        "print(T[None, 0, ...].shape)\n",
        "target_cameras = [FoVPerspectiveCameras(device=device, R=R[None, i, ...],\n",
        "                                           T=T[None, i, ...]) for i in range(num_views)]"
      ]
    },
    {
      "cell_type": "markdown",
      "metadata": {
        "id": "TppB4PVmR1Rc"
      },
      "source": [
        "Visualize the dataset:"
      ]
    },
    {
      "cell_type": "code",
      "execution_count": null,
      "metadata": {
        "id": "HHE0CnbVR1Rd"
      },
      "outputs": [],
      "source": [
        "# RGB images\n",
        "image_grid(target_images.cpu().numpy(), rows=4, cols=5, rgb=True)\n",
        "plt.show()"
      ]
    },
    {
      "cell_type": "markdown",
      "metadata": {
        "id": "gOb4rYx65E8z"
      },
      "source": [
        "Later in this tutorial, we will fit a mesh to the rendered RGB images, as well as to just images of just the cow silhouette.  For the latter case, we will render a dataset of silhouette images.  Most shaders in PyTorch3D will output an alpha channel along with the RGB image as a 4th channel in an RGBA image.  The alpha channel encodes the probability that each pixel belongs to the foreground of the object.  We construct a soft silhouette shader to render this alpha channel."
      ]
    },
    {
      "cell_type": "code",
      "execution_count": null,
      "metadata": {
        "id": "iP_g-nwX4exM"
      },
      "outputs": [],
      "source": [
        "# Rasterization settings for silhouette rendering\n",
        "sigma = 1e-4\n",
        "raster_settings_silhouette = RasterizationSettings(\n",
        "    image_size=128,\n",
        "    blur_radius=np.log(1. / 1e-4 - 1.)*sigma,\n",
        "    faces_per_pixel=50,\n",
        ")\n",
        "\n",
        "# Silhouette renderer\n",
        "renderer_silhouette = MeshRenderer(\n",
        "    rasterizer=MeshRasterizer(\n",
        "        cameras=camera,\n",
        "        raster_settings=raster_settings_silhouette\n",
        "    ),\n",
        "    shader=SoftSilhouetteShader()\n",
        ")\n",
        "\n",
        "# Render silhouette images.  The 3rd channel of the rendering output is\n",
        "# the alpha/silhouette channel\n",
        "silhouette_images = renderer_silhouette(meshes, cameras=cameras, lights=lights)\n",
        "target_silhouette = [silhouette_images[i, ..., 3] for i in range(num_views)]\n",
        "print(silhouette_images)\n",
        "# Visualize silhouette images\n",
        "image_grid(silhouette_images.cpu().numpy(), rows=4, cols=5, rgb=False)\n",
        "plt.show()"
      ]
    },
    {
      "cell_type": "markdown",
      "metadata": {
        "id": "t3qphI1ElUb5"
      },
      "source": [
        "## 3. Mesh prediction via silhouette rendering\n",
        "In the previous section, we created a dataset of images of multiple viewpoints of a cow.  In this section, we predict a mesh by observing those target images without any knowledge of the ground truth cow mesh.  We assume we know the position of the cameras and lighting.\n",
        "\n",
        "We first define some helper functions to visualize the results of our mesh prediction:"
      ]
    },
    {
      "cell_type": "code",
      "execution_count": null,
      "metadata": {
        "id": "eeWYHROrR1Rh"
      },
      "outputs": [],
      "source": [
        "# Show a visualization comparing the rendered predicted mesh to the ground truth\n",
        "# mesh\n",
        "def visualize_prediction(predicted_mesh, renderer=renderer_silhouette,\n",
        "                         target_image=target_rgb[1], title='',\n",
        "                         silhouette=False):\n",
        "    inds = 3 if silhouette else range(3)\n",
        "    with torch.no_grad():\n",
        "        predicted_images = renderer(predicted_mesh)\n",
        "    plt.figure(figsize=(20, 10))\n",
        "    plt.subplot(1, 2, 1)\n",
        "    plt.imshow(predicted_images[0, ..., inds].cpu().detach().numpy())\n",
        "\n",
        "    plt.subplot(1, 2, 2)\n",
        "    plt.imshow(target_image.cpu().detach().numpy())\n",
        "    plt.title(title)\n",
        "    plt.axis(\"off\")\n",
        "\n",
        "# Plot losses as a function of optimization iteration\n",
        "def plot_losses(losses):\n",
        "    fig = plt.figure(figsize=(13, 5))\n",
        "    ax = fig.gca()\n",
        "    for k, l in losses.items():\n",
        "        ax.plot(l['values'], label=k + \" loss\")\n",
        "    ax.legend(fontsize=\"16\")\n",
        "    ax.set_xlabel(\"Iteration\", fontsize=\"16\")\n",
        "    ax.set_ylabel(\"Loss\", fontsize=\"16\")\n",
        "    ax.set_title(\"Loss vs iterations\", fontsize=\"16\")"
      ]
    },
    {
      "cell_type": "markdown",
      "metadata": {
        "id": "PpsvBpuMR1Ri"
      },
      "source": [
        "Starting from a sphere mesh, we will learn offsets of each vertex such that the predicted mesh silhouette is more similar to the target silhouette image at each optimization step.  We begin by loading our initial sphere mesh:"
      ]
    },
    {
      "cell_type": "code",
      "execution_count": null,
      "metadata": {
        "id": "i989ARH1R1Rj"
      },
      "outputs": [],
      "source": [
        "# We initialize the source shape to be a sphere of radius 1.\n",
        "src_mesh = ico_sphere(4, device)"
      ]
    },
    {
      "cell_type": "markdown",
      "metadata": {
        "id": "f5xVtgLNDvC5"
      },
      "source": [
        "We create a new differentiable renderer for rendering the silhouette of our predicted mesh:"
      ]
    },
    {
      "cell_type": "code",
      "execution_count": null,
      "metadata": {
        "id": "sXfjzgG4DsDJ"
      },
      "outputs": [],
      "source": [
        "# Rasterization settings for differentiable rendering, where the blur_radius\n",
        "# initialization is based on Liu et al, 'Soft Rasterizer: A Differentiable\n",
        "# Renderer for Image-based 3D Reasoning', ICCV 2019\n",
        "sigma = 1e-4\n",
        "raster_settings_soft = RasterizationSettings(\n",
        "    image_size=128,\n",
        "    blur_radius=np.log(1. / 1e-4 - 1.)*sigma,\n",
        "    faces_per_pixel=50,\n",
        ")\n",
        "\n",
        "# Silhouette renderer\n",
        "renderer_silhouette = MeshRenderer(\n",
        "    rasterizer=MeshRasterizer(\n",
        "        cameras=camera,\n",
        "        raster_settings=raster_settings_soft\n",
        "    ),\n",
        "    shader=SoftSilhouetteShader()\n",
        ")"
      ]
    },
    {
      "cell_type": "markdown",
      "metadata": {
        "id": "SGJKbCB6R1Rk"
      },
      "source": [
        "We initialize settings, losses, and the optimizer that will be used to iteratively fit our mesh to the target silhouettes:"
      ]
    },
    {
      "cell_type": "code",
      "execution_count": null,
      "metadata": {
        "id": "0sLrKv_MEULh"
      },
      "outputs": [],
      "source": [
        "# Number of views to optimize over in each SGD iteration\n",
        "num_views_per_iteration = 2\n",
        "# Number of optimization steps\n",
        "Niter = 3000\n",
        "# Plot period for the losses\n",
        "plot_period = 250\n",
        "\n",
        "%matplotlib inline\n",
        "\n",
        "# Optimize using rendered silhouette image loss, mesh edge loss, mesh normal\n",
        "# consistency, and mesh laplacian smoothing\n",
        "losses = {\"silhouette\": {\"weight\": 1.0, \"values\": []},\n",
        "          \"edge\": {\"weight\": 1.0, \"values\": []},\n",
        "          \"normal\": {\"weight\": 0.01, \"values\": []},\n",
        "          \"laplacian\": {\"weight\": 1.0, \"values\": []},\n",
        "         }\n",
        "\n",
        "# Losses to smooth / regularize the mesh shape\n",
        "def update_mesh_shape_prior_losses(mesh, loss):\n",
        "    # and (b) the edge length of the predicted mesh\n",
        "    loss[\"edge\"] = mesh_edge_loss(mesh)\n",
        "\n",
        "    # mesh normal consistency\n",
        "    loss[\"normal\"] = mesh_normal_consistency(mesh)\n",
        "\n",
        "    # mesh laplacian smoothing\n",
        "    loss[\"laplacian\"] = mesh_laplacian_smoothing(mesh, method=\"uniform\")\n",
        "\n",
        "# We will learn to deform the source mesh by offsetting its vertices\n",
        "# The shape of the deform parameters is equal to the total number of vertices in\n",
        "# src_mesh\n",
        "verts_shape = src_mesh.verts_packed().shape\n",
        "deform_verts = torch.full(verts_shape, 0.0, device=device, requires_grad=True)\n",
        "init_verts = src_mesh.verts_packed()\n",
        "\n",
        "# The optimizer\n",
        "optimizer = torch.optim.SGD([deform_verts], lr=1.0, momentum=0.9)"
      ]
    },
    {
      "cell_type": "code",
      "execution_count": null,
      "metadata": {
        "id": "NqFALJyM-CmY"
      },
      "outputs": [],
      "source": [
        "print(src_mesh.verts_packed().shape)"
      ]
    },
    {
      "cell_type": "code",
      "execution_count": null,
      "metadata": {
        "id": "k87bwhFb5cZ3"
      },
      "outputs": [],
      "source": [
        "class mesh_model(nn.Module):\n",
        "    def __init__(self, N=10000):\n",
        "        super(mesh_model, self).__init__()\n",
        "        #MLP 64-64\n",
        "        self.conv1 = nn.Conv1d(3, 64, 1)\n",
        "        self.bn1 = nn.BatchNorm1d(64)\n",
        "        self.conv2 = nn.Conv1d(64, 64, 1)\n",
        "        self.bn2 = nn.BatchNorm1d(64)\n",
        "        #MLP 64-1024\n",
        "        self.conv3 = nn.Conv1d(64, 128, 1)\n",
        "        self.bn3 = nn.BatchNorm1d(128)\n",
        "        self.conv4 = nn.Conv1d(128, 1024, 1)\n",
        "        self.bn4 = nn.BatchNorm1d(1024)\n",
        "\n",
        "        self.global_maxpool = nn.MaxPool1d(N)\n",
        "        #MLP for Segmentation\n",
        "        self.conv5 = nn.Conv1d(1088, 512, 1)\n",
        "        self.bn5 = nn.BatchNorm1d(512)\n",
        "        self.conv6 = nn.Conv1d(512, 256, 1)\n",
        "        self.bn6 = nn.BatchNorm1d(256)\n",
        "        self.conv7 = nn.Conv1d(256, 128, 1)\n",
        "        self.bn7 = nn.BatchNorm1d(128)\n",
        "        #final conv\n",
        "        self.conv8 = nn.Conv1d(128, 3, 1)\n",
        "\n",
        "    def forward(self, points):\n",
        "        '''\n",
        "        points: tensor of size (B, N, 3)\n",
        "                , where B is batch size and N is the number of points per object (N=10000 by default)\n",
        "        output: tensor of size (B, N, num_seg_classes)\n",
        "        '''\n",
        "        N=points.shape[1]\n",
        "        # Permute the input to (B, 3, N)\n",
        "        x = points.permute(0, 2, 1).cuda()\n",
        "\n",
        "        # print(f\"x_input_permuted : {x.shape}\")\n",
        "\n",
        "        #MLP 64-64\n",
        "        x=F.relu(self.bn1(self.conv1(x)))\n",
        "        x=F.relu(self.bn2(self.conv2(x)))\n",
        "        local_feat=x\n",
        "        #MLP 64-1024\n",
        "        x=F.relu(self.bn3(self.conv3(x)))\n",
        "        x=F.relu(self.bn4(self.conv4(x)))\n",
        "\n",
        "        #Global max pooling\n",
        "        # print(f\"x_before_max_pool : {x.shape}\")\n",
        "        # x=self.global_maxpool(x).squeeze() # Bx1088\n",
        "        x, _ = torch.max(x,dim=-1)\n",
        "\n",
        "        # print(f\"x_after_max_pool : {x.shape}\")\n",
        "\n",
        "        global_feat=x\n",
        "        global_feat=global_feat.repeat(1,N).view(-1,N,global_feat.shape[1])\n",
        "        local_feat=local_feat.permute(0,2,1)\n",
        "\n",
        "        #Concatenate global features with local features\n",
        "        # print(global_feat.shape,local_feat.shape)\n",
        "        x=torch.cat((local_feat,global_feat),dim=-1).permute(0,2,1)\n",
        "        # print(x.shape)\n",
        "\n",
        "        #MLP for Segmentation\n",
        "        x=F.relu(self.bn5(self.conv5(x)))\n",
        "        x=F.relu(self.bn6(self.conv6(x)))\n",
        "        x=F.relu(self.bn7(self.conv7(x)))\n",
        "        #Final conv\n",
        "        x=self.conv8(x)\n",
        "        # print(x.shape)\n",
        "        x=x.permute(0,2,1)\n",
        "\n",
        "        return x\n",
        "\n",
        "model = mesh_model(verts_shape).to(device)"
      ]
    },
    {
      "cell_type": "code",
      "execution_count": null,
      "metadata": {
        "id": "hGUnqE1GJLdf"
      },
      "outputs": [],
      "source": []
    },
    {
      "cell_type": "code",
      "execution_count": null,
      "metadata": {
        "id": "-bwv_BC9B09H"
      },
      "outputs": [],
      "source": [
        "# def train(train_dataloader, model, opt, epoch, args, writer):\n",
        "\n",
        "#     model.train()\n",
        "#     step = epoch*len(train_dataloader)\n",
        "#     epoch_loss = 0\n",
        "\n",
        "#     for i, batch in enumerate(train_dataloader):\n",
        "#         point_clouds, labels = batch\n",
        "#         point_clouds = point_clouds.to(args.device)\n",
        "#         labels = labels.to(args.device).to(torch.long)\n",
        "\n",
        "#         # ------ TO DO: Forward Pass ------\n",
        "#         predictions = model(point_clouds)\n",
        "\n",
        "#         if (args.task == \"seg\"):\n",
        "#             labels = labels.reshape([-1])\n",
        "#             predictions = predictions.reshape([-1, args.num_seg_class])\n",
        "\n",
        "#         # Compute Loss\n",
        "#         criterion = torch.nn.CrossEntropyLoss()\n",
        "#         loss = criterion(predictions, labels)\n",
        "#         epoch_loss += loss\n",
        "\n",
        "#         # Backward and Optimize\n",
        "#         opt.zero_grad()\n",
        "#         loss.backward()\n",
        "#         opt.step()\n",
        "\n",
        "#         writer.add_scalar('train_loss', loss.item(), step+i)\n",
        "\n",
        "#     return epoch_loss"
      ]
    },
    {
      "cell_type": "code",
      "execution_count": null,
      "metadata": {
        "id": "aoEgPCmM_ALL"
      },
      "outputs": [],
      "source": [
        "loop = tqdm(range(Niter))\n",
        "# Optimizer\n",
        "opt = optim.Adam(model.parameters(), lr = 0.01, betas=(0.9, 0.999))\n",
        "model.train()\n",
        "verts_shape = src_mesh.verts_packed().shape\n",
        "deform_verts = torch.full(verts_shape, 0.0, device=device, requires_grad=True)\n",
        "init_verts = src_mesh.verts_packed()\n",
        "\n",
        "for i in loop:\n",
        "    opt.zero_grad()\n",
        "\n",
        "    deform_verts = model(init_verts.unsqueeze(0))\n",
        "\n",
        "    # Deform the mesh\n",
        "    # new_src_mesh = src_mesh.offset_verts(deform_verts)\n",
        "    new_src_mesh = src_mesh.offset_verts(deform_verts.squeeze(0))\n",
        "\n",
        "    # Losses to smooth /regularize the mesh shape\n",
        "    loss = {k: torch.tensor(0.0, device=device) for k in losses}\n",
        "    update_mesh_shape_prior_losses(new_src_mesh, loss)\n",
        "\n",
        "    # Compute the average silhouette loss over two random views, as the average\n",
        "    # squared L2 distance between the predicted silhouette and the target\n",
        "    # silhouette from our dataset\n",
        "    for j in np.random.permutation(num_views).tolist()[:num_views_per_iteration]:\n",
        "        images_predicted = renderer_silhouette(new_src_mesh, cameras=target_cameras[j], lights=lights)\n",
        "        predicted_silhouette = images_predicted[..., 3]\n",
        "        loss_silhouette = ((predicted_silhouette - target_silhouette[j]) ** 2).mean()\n",
        "        loss[\"silhouette\"] += loss_silhouette / num_views_per_iteration\n",
        "\n",
        "    # Weighted sum of the losses\n",
        "    sum_loss = torch.tensor(0.0, device=device)\n",
        "    for k, l in loss.items():\n",
        "        sum_loss += l * losses[k][\"weight\"]\n",
        "        losses[k][\"values\"].append(float(l.detach().cpu()))\n",
        "\n",
        "\n",
        "    # Print the losses\n",
        "    loop.set_description(\"total_loss = %.6f\" % sum_loss)\n",
        "\n",
        "    # Plot mesh\n",
        "    if i % plot_period == 0:\n",
        "        visualize_prediction(new_src_mesh, title=\"iter: %d\" % i, silhouette=True,\n",
        "                             target_image=target_silhouette[1])\n",
        "\n",
        "    # Optimization step\n",
        "    sum_loss.backward()\n",
        "    opt.step()"
      ]
    },
    {
      "cell_type": "code",
      "execution_count": null,
      "metadata": {
        "id": "Q1WTOifDYfdT"
      },
      "outputs": [],
      "source": [
        "# deform_verts = torch.tensor(new_src_mesh.verts_packed(), requires_grad=True)\n",
        "\n",
        "# # The optimizer\n",
        "# optimizer = torch.optim.SGD([deform_verts], lr=1.0, momentum=0.9)"
      ]
    },
    {
      "cell_type": "code",
      "execution_count": null,
      "metadata": {
        "id": "m5_rgU0ZYZlG"
      },
      "outputs": [],
      "source": [
        "# loop = tqdm(range(Niter))\n",
        "\n",
        "# for i in loop:\n",
        "#     optimizer.zero_grad()\n",
        "\n",
        "#     # deform_verts = model(init_verts.unsqueeze(0))\n",
        "\n",
        "#     # Deform the mesh\n",
        "#     new_src_mesh = src_mesh.offset_verts(deform_verts)\n",
        "#     # new_src_mesh = src_mesh.offset_verts(deform_verts.squeeze(0))\n",
        "\n",
        "#     # Losses to smooth /regularize the mesh shape\n",
        "#     loss = {k: torch.tensor(0.0, device=device) for k in losses}\n",
        "#     update_mesh_shape_prior_losses(new_src_mesh, loss)\n",
        "\n",
        "#     # Compute the average silhouette loss over two random views, as the average\n",
        "#     # squared L2 distance between the predicted silhouette and the target\n",
        "#     # silhouette from our dataset\n",
        "#     for j in np.random.permutation(num_views).tolist()[:num_views_per_iteration]:\n",
        "#         images_predicted = renderer_silhouette(new_src_mesh, cameras=target_cameras[j], lights=lights)\n",
        "#         predicted_silhouette = images_predicted[..., 3]\n",
        "#         loss_silhouette = ((predicted_silhouette - target_silhouette[j]) ** 2).mean()\n",
        "#         loss[\"silhouette\"] += loss_silhouette / num_views_per_iteration\n",
        "\n",
        "#     # Weighted sum of the losses\n",
        "#     sum_loss = torch.tensor(0.0, device=device)\n",
        "#     for k, l in loss.items():\n",
        "#         sum_loss += l * losses[k][\"weight\"]\n",
        "#         losses[k][\"values\"].append(float(l.detach().cpu()))\n",
        "\n",
        "\n",
        "#     # Print the losses\n",
        "#     loop.set_description(\"total_loss = %.6f\" % sum_loss)\n",
        "\n",
        "#     # Plot mesh\n",
        "#     if i % plot_period == 0:\n",
        "#         visualize_prediction(new_src_mesh, title=\"iter: %d\" % i, silhouette=True,\n",
        "#                              target_image=target_silhouette[1])\n",
        "\n",
        "#     # Optimization step\n",
        "#     sum_loss.backward()\n",
        "#     optimizer.step()"
      ]
    },
    {
      "cell_type": "code",
      "execution_count": null,
      "metadata": {
        "id": "3_KO2H6dX3UC"
      },
      "outputs": [],
      "source": []
    },
    {
      "cell_type": "code",
      "execution_count": null,
      "metadata": {
        "id": "epz_No-vKGHy"
      },
      "outputs": [],
      "source": [
        "import torch\n",
        "from pytorch3d.renderer import (\n",
        "    AlphaCompositor,\n",
        "    RasterizationSettings,\n",
        "    MeshRenderer,\n",
        "    MeshRasterizer,\n",
        "    PointsRasterizationSettings,\n",
        "    PointsRenderer,\n",
        "    PointsRasterizer,\n",
        "    HardPhongShader,\n",
        ")\n",
        "from pytorch3d.io import load_obj\n",
        "import imageio\n",
        "from PIL import Image\n",
        "\n",
        "\n",
        "def get_mesh_renderer(image_size=512, lights=None, device=None):\n",
        "    \"\"\"\n",
        "    Returns a Pytorch3D Mesh Renderer.\n",
        "\n",
        "    Args:\n",
        "        image_size (int): The rendered image size.\n",
        "        lights: A default Pytorch3D lights object.\n",
        "        device (torch.device): The torch device to use (CPU or GPU). If not specified,\n",
        "            will automatically use GPU if available, otherwise CPU.\n",
        "    \"\"\"\n",
        "    if device is None:\n",
        "        if torch.cuda.is_available():\n",
        "            device = torch.device(\"cuda:0\")\n",
        "        else:\n",
        "            device = torch.device(\"cpu\")\n",
        "    raster_settings = RasterizationSettings(\n",
        "        image_size=image_size, blur_radius=0.0, faces_per_pixel=1,\n",
        "    )\n",
        "    renderer = MeshRenderer(\n",
        "        rasterizer=MeshRasterizer(raster_settings=raster_settings),\n",
        "        shader=HardPhongShader(device=device, lights=lights),\n",
        "    )\n",
        "    return renderer\n",
        "\n",
        "def get_device():\n",
        "    \"\"\"\n",
        "    Checks if GPU is available and returns device accordingly.\n",
        "    \"\"\"\n",
        "    if torch.cuda.is_available():\n",
        "        device = torch.device(\"cuda:0\")\n",
        "    else:\n",
        "        device = torch.device(\"cpu\")\n",
        "    return device\n",
        "\n",
        "def render_mesh(mesh_input, title, distance, elevation):\n",
        "    # Get the renderer.\n",
        "    renderer = get_mesh_renderer(image_size=256)\n",
        "    vertices = mesh_input.verts_list()[0]\n",
        "    faces = mesh_input.faces_list()[0]\n",
        "    vertices = vertices.unsqueeze(0)  # (N_v, 3) -> (1, N_v, 3)\n",
        "    faces = faces.unsqueeze(0)  # (N_f, 3) -> (1, N_f, 3)\n",
        "    textures = torch.ones_like(vertices).to(get_device())  # (1, N_v, 3)\n",
        "    textures = textures * torch.tensor([0.7, 0.7, 1]).to(get_device())  # (1, N_v, 3)\n",
        "    mesh = pytorch3d.structures.Meshes(\n",
        "        verts=vertices,\n",
        "        faces=faces,\n",
        "        textures=pytorch3d.renderer.TexturesVertex(textures),\n",
        "    )\n",
        "    mesh = mesh.to(get_device())\n",
        "\n",
        "    # Get the vertices, faces, and textures.\n",
        "    view_angles = np.linspace(0, 360, 48, endpoint=False)\n",
        "\n",
        "    my_images = []\n",
        "\n",
        "    for i in range(len(view_angles)):\n",
        "        R, T = pytorch3d.renderer.cameras.look_at_view_transform(\n",
        "            dist=distance,\n",
        "            elev=elevation,\n",
        "            azim=view_angles[i]\n",
        "        )\n",
        "        cameras = pytorch3d.renderer.FoVPerspectiveCameras(\n",
        "            R=R,\n",
        "            T=T,\n",
        "            fov=60,\n",
        "            device=get_device()\n",
        "        )\n",
        "        lights = pytorch3d.renderer.PointLights(location=[[0, 0, -3]], device=get_device())\n",
        "        rend = renderer(mesh, cameras=cameras, lights=lights)\n",
        "        rend = rend.cpu().numpy()[0, ..., :3]\n",
        "\n",
        "        image = Image.fromarray((rend * 255).astype(np.uint8))\n",
        "        my_images.append(np.array(image))\n",
        "\n",
        "    imageio.mimsave(title + '.gif', my_images, duration=0.06667, loop=0)\n"
      ]
    },
    {
      "cell_type": "code",
      "source": [
        "import pytorch3d"
      ],
      "metadata": {
        "id": "XQj7J78IvUiQ"
      },
      "execution_count": null,
      "outputs": []
    },
    {
      "cell_type": "code",
      "execution_count": null,
      "metadata": {
        "id": "cdCsL7HnP6rN"
      },
      "outputs": [],
      "source": [
        "render_mesh(new_src_mesh.detach(), \"mesh_tgt\", 5, 0)\n"
      ]
    },
    {
      "cell_type": "markdown",
      "metadata": {
        "id": "QLc9zK8lEqFS"
      },
      "source": [
        "We write an optimization loop to iteratively refine our predicted mesh from the sphere mesh into a mesh that matches the silhouettes of the target images:"
      ]
    },
    {
      "cell_type": "code",
      "execution_count": null,
      "metadata": {
        "id": "gCfepfOoR1Rl"
      },
      "outputs": [],
      "source": [
        "loop = tqdm(range(Niter))\n",
        "\n",
        "for i in tqdm(range(Niter)):\n",
        "    # Initialize optimizer\n",
        "    optimizer.zero_grad()\n",
        "\n",
        "    # Deform the mesh\n",
        "    # print(deform_verts.shape)\n",
        "    deform_verts = deform_verts.squeeze(0)\n",
        "    new_src_mesh = src_mesh.offset_verts(deform_verts)\n",
        "    # print(new_src_mesh.shape)\n",
        "\n",
        "    # Losses to smooth /regularize the mesh shape\n",
        "    loss = {k: torch.tensor(0.0, device=device) for k in losses}\n",
        "    update_mesh_shape_prior_losses(new_src_mesh, loss)\n",
        "\n",
        "    # Compute the average silhouette loss over two random views, as the average\n",
        "    # squared L2 distance between the predicted silhouette and the target\n",
        "    # silhouette from our dataset\n",
        "    for j in np.random.permutation(num_views).tolist()[:num_views_per_iteration]:\n",
        "        images_predicted = renderer_silhouette(new_src_mesh, cameras=target_cameras[j], lights=lights)\n",
        "        predicted_silhouette = images_predicted[..., 3]\n",
        "        loss_silhouette = ((predicted_silhouette - target_silhouette[j]) ** 2).mean()\n",
        "        loss[\"silhouette\"] += loss_silhouette / num_views_per_iteration\n",
        "\n",
        "    # Weighted sum of the losses\n",
        "    sum_loss = torch.tensor(0.0, device=device)\n",
        "    for k, l in loss.items():\n",
        "        sum_loss += l * losses[k][\"weight\"]\n",
        "        losses[k][\"values\"].append(float(l.detach().cpu()))\n",
        "\n",
        "\n",
        "    # Print the losses\n",
        "    loop.set_description(\"total_loss = %.6f\" % sum_loss)\n",
        "\n",
        "    # Plot mesh\n",
        "    if i % plot_period == 0:\n",
        "        visualize_prediction(new_src_mesh, title=\"iter: %d\" % i, silhouette=True,\n",
        "                             target_image=target_silhouette[1])\n",
        "\n",
        "    # Optimization step\n",
        "    # sum_loss.backward()\n",
        "    optimizer.step()"
      ]
    },
    {
      "cell_type": "code",
      "execution_count": null,
      "metadata": {
        "id": "CX4huayKR1Rm",
        "scrolled": true
      },
      "outputs": [],
      "source": [
        "visualize_prediction(new_src_mesh, silhouette=True,\n",
        "                     target_image=target_silhouette[1])\n",
        "plot_losses(losses)"
      ]
    },
    {
      "cell_type": "markdown",
      "metadata": {
        "id": "XJDsJQmrR1Ro"
      },
      "source": [
        "## 3. Mesh and texture prediction via textured rendering\n",
        "We can predict both the mesh and its texture if we add an additional loss based on the comparing a predicted rendered RGB image to the target image. As before, we start with a sphere mesh.  We learn both translational offsets and RGB texture colors for each vertex in the sphere mesh.  Since our loss is based on rendered RGB pixel values instead of just the silhouette, we use a **SoftPhongShader** instead of a **SoftSilhouetteShader**."
      ]
    },
    {
      "cell_type": "code",
      "execution_count": null,
      "metadata": {
        "id": "aZObyIt9R1Ro"
      },
      "outputs": [],
      "source": [
        "# Rasterization settings for differentiable rendering, where the blur_radius\n",
        "# initialization is based on Liu et al, 'Soft Rasterizer: A Differentiable\n",
        "# Renderer for Image-based 3D Reasoning', ICCV 2019\n",
        "sigma = 1e-4\n",
        "raster_settings_soft = RasterizationSettings(\n",
        "    image_size=128,\n",
        "    blur_radius=np.log(1. / 1e-4 - 1.)*sigma,\n",
        "    faces_per_pixel=50,\n",
        "    perspective_correct=False,\n",
        ")\n",
        "\n",
        "# Differentiable soft renderer using per vertex RGB colors for texture\n",
        "renderer_textured = MeshRenderer(\n",
        "    rasterizer=MeshRasterizer(\n",
        "        cameras=camera,\n",
        "        raster_settings=raster_settings_soft\n",
        "    ),\n",
        "    shader=SoftPhongShader(device=device,\n",
        "        cameras=camera,\n",
        "        lights=lights)\n",
        ")"
      ]
    },
    {
      "cell_type": "markdown",
      "metadata": {
        "id": "NM7gJux8GMQX"
      },
      "source": [
        "We initialize settings, losses, and the optimizer that will be used to iteratively fit our mesh to the target RGB images:"
      ]
    },
    {
      "cell_type": "code",
      "execution_count": null,
      "metadata": {
        "id": "BS6LAQquF3wq"
      },
      "outputs": [],
      "source": [
        "# Number of views to optimize over in each SGD iteration\n",
        "num_views_per_iteration = 2\n",
        "# Number of optimization steps\n",
        "Niter = 4000\n",
        "# Plot period for the losses\n",
        "plot_period = 250\n",
        "\n",
        "%matplotlib inline\n",
        "\n",
        "# Optimize using rendered RGB image loss, rendered silhouette image loss, mesh\n",
        "# edge loss, mesh normal consistency, and mesh laplacian smoothing\n",
        "losses = {\"rgb\": {\"weight\": 1.0, \"values\": []},\n",
        "          \"silhouette\": {\"weight\": 1.0, \"values\": []},\n",
        "          \"edge\": {\"weight\": 1.0, \"values\": []},\n",
        "          \"normal\": {\"weight\": 0.01, \"values\": []},\n",
        "          \"laplacian\": {\"weight\": 1.0, \"values\": []},\n",
        "          \"dice\": {\"weight\": 1.0, \"values\": []},\n",
        "         }\n",
        "\n",
        "# We will learn to deform the source mesh by offsetting its vertices\n",
        "# The shape of the deform parameters is equal to the total number of vertices in\n",
        "# src_mesh\n",
        "verts_shape = src_mesh.verts_packed().shape\n",
        "deform_verts = torch.full(verts_shape, 0.0, device=device, requires_grad=True)\n",
        "\n",
        "# We will also learn per vertex colors for our sphere mesh that define texture\n",
        "# of the mesh\n",
        "sphere_verts_rgb = torch.full([1, verts_shape[0], 3], 0.5, device=device, requires_grad=True)\n",
        "\n",
        "# The optimizer\n",
        "optimizer = torch.optim.SGD([deform_verts, sphere_verts_rgb], lr=1.0, momentum=0.9)"
      ]
    },
    {
      "cell_type": "code",
      "execution_count": null,
      "metadata": {
        "id": "dQBrpqhXoC64"
      },
      "outputs": [],
      "source": [
        "class mesh_model(nn.Module):\n",
        "    def __init__(self, N=10000):\n",
        "        super(mesh_model, self).__init__()\n",
        "        #MLP 64-64\n",
        "        self.conv1 = nn.Conv1d(39, 64, 1)\n",
        "        self.bn1 = nn.BatchNorm1d(64)\n",
        "        self.conv2 = nn.Conv1d(64, 64, 1)\n",
        "        self.bn2 = nn.BatchNorm1d(64)\n",
        "        #MLP 64-1024\n",
        "        self.conv3 = nn.Conv1d(64, 128, 1)\n",
        "        self.bn3 = nn.BatchNorm1d(128)\n",
        "        self.conv4 = nn.Conv1d(128, 1024, 1)\n",
        "        self.bn4 = nn.BatchNorm1d(1024)\n",
        "\n",
        "        self.global_maxpool = nn.MaxPool1d(N)\n",
        "        #MLP for Segmentation\n",
        "        self.conv5 = nn.Conv1d(1088, 512, 1)\n",
        "        self.bn5 = nn.BatchNorm1d(512)\n",
        "        self.conv6 = nn.Conv1d(512, 256, 1)\n",
        "        self.bn6 = nn.BatchNorm1d(256)\n",
        "        self.conv7 = nn.Conv1d(256, 128, 1)\n",
        "        self.bn7 = nn.BatchNorm1d(128)\n",
        "        #final conv\n",
        "        self.conv8 = nn.Conv1d(128, 6, 1)\n",
        "\n",
        "    def forward(self, points):\n",
        "        '''\n",
        "        points: tensor of size (B, N, 3)\n",
        "                , where B is batch size and N is the number of points per object (N=10000 by default)\n",
        "        output: tensor of size (B, N, num_seg_classes)\n",
        "        '''\n",
        "        N=points.shape[1]\n",
        "        # Permute the input to (B, 3, N)\n",
        "        x = points.permute(0, 2, 1).cuda()\n",
        "\n",
        "        # print(f\"x_input_permuted : {x.shape}\")\n",
        "\n",
        "        #MLP 64-64\n",
        "        x=F.relu(self.bn1(self.conv1(x)))\n",
        "        x=F.relu(self.bn2(self.conv2(x)))\n",
        "        local_feat=x\n",
        "        #MLP 64-1024\n",
        "        x=F.relu(self.bn3(self.conv3(x)))\n",
        "        x=F.relu(self.bn4(self.conv4(x)))\n",
        "\n",
        "        #Global max pooling\n",
        "        # print(f\"x_before_max_pool : {x.shape}\")\n",
        "        # x=self.global_maxpool(x).squeeze() # Bx1088\n",
        "        x, _ = torch.max(x,dim=-1)\n",
        "\n",
        "        # print(f\"x_after_max_pool : {x.shape}\")\n",
        "\n",
        "        global_feat=x\n",
        "        global_feat=global_feat.repeat(1,N).view(-1,N,global_feat.shape[1])\n",
        "        local_feat=local_feat.permute(0,2,1)\n",
        "\n",
        "        #Concatenate global features with local features\n",
        "        # print(global_feat.shape,local_feat.shape)\n",
        "        x=torch.cat((local_feat,global_feat),dim=-1).permute(0,2,1)\n",
        "        # print(x.shape)\n",
        "\n",
        "        #MLP for Segmentation\n",
        "        x=F.relu(self.bn5(self.conv5(x)))\n",
        "        x=F.relu(self.bn6(self.conv6(x)))\n",
        "        x=F.relu(self.bn7(self.conv7(x)))\n",
        "        #Final conv\n",
        "        x=self.conv8(x)\n",
        "        # print(x.shape)\n",
        "\n",
        "        x=x.permute(0,2,1)\n",
        "\n",
        "        return x\n",
        "\n",
        "model = mesh_model(verts_shape).to(device)"
      ]
    },
    {
      "cell_type": "code",
      "source": [
        "class HarmonicEmbedding(torch.nn.Module):\n",
        "    def __init__(\n",
        "        self,\n",
        "        in_channels: int = 3,\n",
        "        n_harmonic_functions: int = 6,\n",
        "        omega0: float = 1.0,\n",
        "        logspace: bool = True,\n",
        "        include_input: bool = True,\n",
        "    ) -> None:\n",
        "        super().__init__()\n",
        "\n",
        "        if logspace:\n",
        "            frequencies = 2.0 ** torch.arange(\n",
        "                n_harmonic_functions,\n",
        "                dtype=torch.float32,\n",
        "            )\n",
        "        else:\n",
        "            frequencies = torch.linspace(\n",
        "                1.0,\n",
        "                2.0 ** (n_harmonic_functions - 1),\n",
        "                n_harmonic_functions,\n",
        "                dtype=torch.float32,\n",
        "            )\n",
        "\n",
        "        self.register_buffer(\"_frequencies\", omega0 * frequencies, persistent=False)\n",
        "        self.include_input = include_input\n",
        "        self.output_dim = n_harmonic_functions * 2 * in_channels\n",
        "\n",
        "        if self.include_input:\n",
        "            self.output_dim += in_channels\n",
        "\n",
        "    def forward(self, x: torch.Tensor):\n",
        "        embed = (x[..., None] * self._frequencies).view(*x.shape[:-1], -1)\n",
        "\n",
        "        if self.include_input:\n",
        "            return torch.cat((embed.sin(), embed.cos(), x), dim=-1)\n",
        "        else:\n",
        "            return torch.cat((embed.sin(), embed.cos()), dim=-1)"
      ],
      "metadata": {
        "id": "tpr2OvNE05Am"
      },
      "execution_count": null,
      "outputs": []
    },
    {
      "cell_type": "markdown",
      "metadata": {
        "id": "tzIAycuUR1Rq"
      },
      "source": [
        "We write an optimization loop to iteratively refine our predicted mesh and its vertex colors from the sphere mesh into a mesh that matches the target images:"
      ]
    },
    {
      "cell_type": "code",
      "source": [
        "# Number of views to optimize over in each SGD iteration\n",
        "num_views_per_iteration = 2\n",
        "# Number of optimization steps\n",
        "Niter = 4000\n",
        "# Plot period for the losses\n",
        "plot_period = 250\n",
        "\n",
        "%matplotlib inline\n",
        "\n",
        "# Optimize using rendered RGB image loss, rendered silhouette image loss, mesh\n",
        "# edge loss, mesh normal consistency, and mesh laplacian smoothing\n",
        "losses = {\"rgb\": {\"weight\": 1.0, \"values\": []},\n",
        "          \"silhouette\": {\"weight\": 1.0, \"values\": []},\n",
        "          \"edge\": {\"weight\": 1.0, \"values\": []},\n",
        "          \"normal\": {\"weight\": 0.01, \"values\": []},\n",
        "          \"laplacian\": {\"weight\": 1.0, \"values\": []},\n",
        "          \"dice\": {\"weight\": 1.0, \"values\": []},\n",
        "         }\n",
        "\n",
        "# We will learn to deform the source mesh by offsetting its vertices\n",
        "# The shape of the deform parameters is equal to the total number of vertices in\n",
        "# src_mesh\n",
        "verts_shape = src_mesh.verts_packed().shape\n",
        "deform_verts = torch.full(verts_shape, 0.0, device=device, requires_grad=True)\n",
        "\n",
        "# We will also learn per vertex colors for our sphere mesh that define texture\n",
        "# of the mesh\n",
        "sphere_verts_rgb = torch.full([1, verts_shape[0], 3], 0.5, device=device, requires_grad=True)\n",
        "\n",
        "# The optimizer\n",
        "optimizer = torch.optim.SGD([deform_verts, sphere_verts_rgb], lr=1.0, momentum=0.9)"
      ],
      "metadata": {
        "id": "f0S11A9s1-u4"
      },
      "execution_count": null,
      "outputs": []
    },
    {
      "cell_type": "code",
      "source": [
        "def dice_coefficient(predicted, target):\n",
        "    smooth = 1.0  # to avoid division by zero\n",
        "    predicted_flat = predicted.view(-1)\n",
        "    target_flat = target.view(-1)\n",
        "    intersection = (predicted_flat * target_flat).sum()\n",
        "    return (2. * intersection + smooth) / (predicted_flat.sum() + target_flat.sum() + smooth)\n"
      ],
      "metadata": {
        "id": "b7k8AJrYbEIh"
      },
      "execution_count": null,
      "outputs": []
    },
    {
      "cell_type": "code",
      "execution_count": null,
      "metadata": {
        "id": "EKEH2p8-R1Rr"
      },
      "outputs": [],
      "source": [
        "loop = tqdm(range(Niter))\n",
        "# Optimizer\n",
        "opt = optim.Adam(model.parameters(), lr = 0.01, betas=(0.9, 0.999))\n",
        "harmonic_embedding_xyz = HarmonicEmbedding()\n",
        "model.train()\n",
        "verts_shape = src_mesh.verts_packed().shape\n",
        "deform_verts = torch.full(verts_shape, 0.0, device=device, requires_grad=True)\n",
        "\n",
        "# We will also learn per vertex colors for our sphere mesh that define texture\n",
        "# of the mesh\n",
        "sphere_verts_rgb = torch.full([1, verts_shape[0], 3], 0.5, device=device, requires_grad=True)\n",
        "\n",
        "# The optimizer\n",
        "optimizer = torch.optim.SGD([deform_verts, sphere_verts_rgb], lr=1.0, momentum=0.9)\n",
        "\n",
        "for i in tqdm(range(Niter)):\n",
        "    # Initialize optimizer\n",
        "    opt.zero_grad()\n",
        "\n",
        "    map = harmonic_embedding_xyz(init_verts.cpu())\n",
        "\n",
        "    predict = model(map.unsqueeze(0))\n",
        "\n",
        "    # Deform the mesh\n",
        "    # new_src_mesh = src_mesh.offset_verts(deform_verts)\n",
        "    new_src_mesh = src_mesh.offset_verts(predict[:, :, :3].squeeze(0))\n",
        "\n",
        "    # Add per vertex colors to texture the mesh\n",
        "    new_src_mesh.textures = TexturesVertex(verts_features=torch.clamp(predict[:, :, 3:], 0, 255))\n",
        "\n",
        "    # Losses to smooth /regularize the mesh shape\n",
        "    loss = {k: torch.tensor(0.0, device=device) for k in losses}\n",
        "    update_mesh_shape_prior_losses(new_src_mesh, loss)\n",
        "\n",
        "    # Randomly select two views to optimize over in this iteration.  Compared\n",
        "    # to using just one view, this helps resolve ambiguities between updating\n",
        "    # mesh shape vs. updating mesh texture\n",
        "    for j in np.random.permutation(num_views).tolist()[:num_views_per_iteration]:\n",
        "        images_predicted = renderer_textured(new_src_mesh, cameras=target_cameras[j], lights=lights)\n",
        "\n",
        "        # Squared L2 distance between the predicted silhouette and the target\n",
        "        # silhouette from our dataset\n",
        "        predicted_silhouette = images_predicted[..., 3]\n",
        "        loss_silhouette = ((predicted_silhouette - target_silhouette[j]) ** 2).mean()\n",
        "        loss_dice = dice_coefficient(predicted_silhouette, target_silhouette[j])\n",
        "        loss[\"dice\"] += loss_dice / num_views_per_iteration\n",
        "        loss[\"silhouette\"] += loss_silhouette / num_views_per_iteration\n",
        "\n",
        "        # Squared L2 distance between the predicted RGB image and the target\n",
        "        # image from our dataset\n",
        "        predicted_rgb = images_predicted[..., :3]\n",
        "        loss_rgb = ((predicted_rgb - target_rgb[j]) ** 2).mean()\n",
        "        loss[\"rgb\"] += loss_rgb / num_views_per_iteration\n",
        "\n",
        "    # Weighted sum of the losses\n",
        "    sum_loss = torch.tensor(0.0, device=device)\n",
        "    for k, l in loss.items():\n",
        "        sum_loss += l * losses[k][\"weight\"]\n",
        "        losses[k][\"values\"].append(float(l.detach().cpu()))\n",
        "\n",
        "    # Print the losses\n",
        "    loop.set_description(\"total_loss = %.6f\" % sum_loss)\n",
        "\n",
        "    # Plot mesh\n",
        "    if i % plot_period == 0:\n",
        "        visualize_prediction(new_src_mesh, renderer=renderer_textured, title=\"iter: %d\" % i, silhouette=False)\n",
        "\n",
        "    # Optimization step\n",
        "    sum_loss.backward()\n",
        "    opt.step()\n"
      ]
    },
    {
      "cell_type": "code",
      "source": [
        "def color_render_mesh(mesh_input, title, distance, elevation, renderer):\n",
        "    # Get the renderer.\n",
        "    renderer = renderer\n",
        "\n",
        "    # Get the vertices, faces, and textures.\n",
        "    view_angles = np.linspace(0, 360, 48, endpoint=False)\n",
        "\n",
        "    my_images = []\n",
        "\n",
        "    for i in range(len(view_angles)):\n",
        "        R, T = pytorch3d.renderer.cameras.look_at_view_transform(\n",
        "            dist=distance,\n",
        "            elev=elevation,\n",
        "            azim=view_angles[i]\n",
        "        )\n",
        "        cameras = pytorch3d.renderer.FoVPerspectiveCameras(\n",
        "            R=R,\n",
        "            T=T,\n",
        "            fov=60,\n",
        "            device=get_device()\n",
        "        )\n",
        "        lights = pytorch3d.renderer.PointLights(location=[[0, 0, -3]], device=get_device())\n",
        "        rend = renderer(mesh_input, cameras=cameras, lights=lights)\n",
        "        rend = rend.cpu().numpy()[0, ..., :3]\n",
        "\n",
        "        image = Image.fromarray((rend * 255).astype(np.uint8))\n",
        "        my_images.append(np.array(image))\n",
        "\n",
        "    imageio.mimsave(title + '.gif', my_images, duration=0.06667, loop=0)"
      ],
      "metadata": {
        "id": "7BqG5Sko0lqT"
      },
      "execution_count": null,
      "outputs": []
    },
    {
      "cell_type": "code",
      "source": [
        "color_render_mesh(new_src_mesh.detach(), \"color_mesh_tgt\", 5, 0, renderer_textured)"
      ],
      "metadata": {
        "id": "Z7WPSc_60sT8"
      },
      "execution_count": null,
      "outputs": []
    },
    {
      "cell_type": "code",
      "execution_count": null,
      "metadata": {
        "id": "2qTcHO4rR1Rs",
        "scrolled": true
      },
      "outputs": [],
      "source": [
        "visualize_prediction(new_src_mesh, renderer=renderer_textured, silhouette=False)\n",
        "plot_losses(losses)"
      ]
    },
    {
      "cell_type": "code",
      "source": [
        "import numpy as np\n",
        "import torch\n",
        "\n",
        "from pytorch3d.datasets import (\n",
        "    R2N2,\n",
        "    ShapeNetCore,\n",
        "    collate_batched_meshes,\n",
        "    render_cubified_voxels,\n",
        ")\n",
        "from pytorch3d.renderer import (\n",
        "    OpenGLPerspectiveCameras,\n",
        "    PointLights,\n",
        "    RasterizationSettings,\n",
        "    TexturesVertex,\n",
        "    look_at_view_transform,\n",
        ")\n",
        "\n",
        "from pytorch3d.structures import Meshes\n",
        "from torch.utils.data import DataLoader\n",
        "\n",
        "# add path for demo utils functions\n",
        "import sys\n",
        "import os\n",
        "sys.path.append(os.path.abspath(''))"
      ],
      "metadata": {
        "id": "BtCVYUymd_if"
      },
      "execution_count": null,
      "outputs": []
    },
    {
      "cell_type": "code",
      "source": [
        "!wget http://shapenet.cs.stanford.edu/shapenet/obj-zip/ShapeNetCore.v1.zip"
      ],
      "metadata": {
        "id": "jW-uTubjiiy7",
        "colab": {
          "base_uri": "https://localhost:8080/"
        },
        "outputId": "78b41de0-3c0e-4ad7-f6e9-698a12c40ec6"
      },
      "execution_count": null,
      "outputs": [
        {
          "output_type": "stream",
          "name": "stdout",
          "text": [
            "--2023-12-15 01:32:45--  http://shapenet.cs.stanford.edu/shapenet/obj-zip/ShapeNetCore.v1.zip\n",
            "Resolving shapenet.cs.stanford.edu (shapenet.cs.stanford.edu)... 171.67.77.19\n",
            "Connecting to shapenet.cs.stanford.edu (shapenet.cs.stanford.edu)|171.67.77.19|:80... connected.\n",
            "HTTP request sent, awaiting response... 200 OK\n",
            "Length: 32483981970 (30G) [application/zip]\n",
            "Saving to: ‘ShapeNetCore.v1.zip’\n",
            "\n",
            "ShapeNetCore.v1.zip 100%[===================>]  30.25G  16.6MB/s    in 34m 39s \n",
            "\n",
            "2023-12-15 02:07:25 (14.9 MB/s) - ‘ShapeNetCore.v1.zip’ saved [32483981970/32483981970]\n",
            "\n"
          ]
        }
      ]
    },
    {
      "cell_type": "code",
      "source": [
        "!unzip '/content/ShapeNetCore.v1.zip' -d '/content'\n",
        "!unzip '/content/ShapeNetCore.v1/02691156.zip' -d '/content/ShapeNetCore.v1'"
      ],
      "metadata": {
        "id": "2iDAXHBbj_XL"
      },
      "execution_count": null,
      "outputs": []
    },
    {
      "cell_type": "code",
      "source": [
        "SHAPENET_PATH = \"/content/r2n2_shapenet_dataset/shapenet\"\n",
        "shapenet_dataset = ShapeNetCore(SHAPENET_PATH)"
      ],
      "metadata": {
        "id": "FC77AeE1gvMA"
      },
      "execution_count": null,
      "outputs": []
    },
    {
      "cell_type": "code",
      "source": [
        "shapenet_loader = DataLoader(shapenet_dataset, batch_size=1, collate_fn=collate_batched_meshes)"
      ],
      "metadata": {
        "id": "zNYDJb7NmC1O"
      },
      "execution_count": null,
      "outputs": []
    },
    {
      "cell_type": "code",
      "source": [
        "for i, batch in enumerate(shapenet_loader):\n",
        "    gt_mesh = batch['mesh']\n",
        "    if i == 4:\n",
        "      break\n",
        "    # batch_renderings = batch[\"images\"][0] # (N, V, H, W, 3), and in this case V is 1.\n",
        "    # gt_mesh = batch['mesh'].scale_verts(2).cuda()\n",
        "    # gt_texture = batch['textures']"
      ],
      "metadata": {
        "id": "nPJ3_HtXGyWd"
      },
      "execution_count": null,
      "outputs": []
    },
    {
      "cell_type": "code",
      "source": [
        "# the number of different viewpoints from which we want to render the mesh.\n",
        "num_views = 20\n",
        "\n",
        "# Get a batch of viewing angles.\n",
        "elev = torch.linspace(0, 360, num_views)\n",
        "azim = torch.linspace(-180, 180, num_views)\n",
        "\n",
        "# Place a point light in front of the object. As mentioned above, the front of\n",
        "# the cow is facing the -z direction.\n",
        "lights = PointLights(device=device, location=[[0.0, 0.0, -3.0]])\n",
        "\n",
        "# Initialize an OpenGL perspective camera that represents a batch of different\n",
        "# viewing angles. All the cameras helper methods support mixed type inputs and\n",
        "# broadcasting. So we can view the camera from the a distance of dist=2.7, and\n",
        "# then specify elevation and azimuth angles for each viewpoint as tensors.\n",
        "R, T = look_at_view_transform(dist=1, elev=elev, azim=azim)\n",
        "cameras = FoVPerspectiveCameras(device=device, R=R, T=T)\n",
        "\n",
        "# We arbitrarily choose one particular view that will be used to visualize\n",
        "# results\n",
        "camera = FoVPerspectiveCameras(device=device, R=R[None, 1, ...],\n",
        "                                  T=T[None, 1, ...])\n",
        "\n",
        "# Define the settings for rasterization and shading. Here we set the output\n",
        "# image to be of size 128X128. As we are rendering images for visualization\n",
        "# purposes only we will set faces_per_pixel=1 and blur_radius=0.0. Refer to\n",
        "# rasterize_meshes.py for explanations of these parameters.  We also leave\n",
        "# bin_size and max_faces_per_bin to their default values of None, which sets\n",
        "# their values using heuristics and ensures that the faster coarse-to-fine\n",
        "# rasterization method is used.  Refer to docs/notes/renderer.md for an\n",
        "# explanation of the difference between naive and coarse-to-fine rasterization.\n",
        "raster_settings = RasterizationSettings(\n",
        "    image_size=128,\n",
        "    blur_radius=0.0,\n",
        "    faces_per_pixel=1,\n",
        ")\n",
        "\n",
        "# Create a Phong renderer by composing a rasterizer and a shader. The textured\n",
        "# Phong shader will interpolate the texture uv coordinates for each vertex,\n",
        "# sample from a texture image and apply the Phong lighting model\n",
        "renderer = MeshRenderer(\n",
        "    rasterizer=MeshRasterizer(\n",
        "        cameras=camera,\n",
        "        raster_settings=raster_settings\n",
        "    ),\n",
        "    shader=SoftPhongShader(\n",
        "        device=device,\n",
        "        cameras=camera,\n",
        "        lights=lights\n",
        "    )\n",
        ")\n",
        "\n",
        "# Create a batch of meshes by repeating the cow mesh and associated textures.\n",
        "# Meshes has a useful `extend` method which allows us do this very easily.\n",
        "# This also extends the textures.\n",
        "meshes = gt_mesh.extend(num_views).cuda()\n",
        "\n",
        "# Render the cow mesh from each viewing angle\n",
        "target_images = renderer_textured(meshes, cameras=cameras, lights=lights)\n",
        "\n",
        "silhouette_images = renderer_silhouette(meshes, cameras=cameras, lights=lights)\n",
        "target_silhouette = [silhouette_images[i, ..., 3] for i in range(num_views)]\n",
        "\n",
        "\n",
        "\n",
        "T = T+torch.tensor([0.0,0.0,1.5])\n",
        "src_cameras = FoVPerspectiveCameras(device=device, R=R, T=T)\n",
        "\n",
        "src_meshes = src_mesh.extend(num_views).cuda()\n",
        "\n",
        "target_images = renderer_textured(src_meshes, cameras=cameras, lights=lights)\n",
        "print(target_images.shape)\n",
        "\n",
        "plt.imshow(src_images[0].cpu())\n",
        "plt.show()\n",
        "image_grid(src_images.cpu().numpy(), rows=4, cols=5, rgb=True)\n",
        "image_grid(src_sil.cpu().numpy(), rows=4, cols=5, rgb=False)\n",
        "\n",
        "\n",
        "# Our multi-view cow dataset will be represented by these 2 lists of tensors,\n",
        "# each of length num_views.\n",
        "target_rgb = [target_images[i, ..., :3] for i in range(num_views)]\n",
        "print(R[None, 0, ...].shape)\n",
        "print(T[None, 0, ...].shape)\n",
        "target_cameras = [FoVPerspectiveCameras(device=device, R=R[None, i, ...],\n",
        "                                           T=T[None, i, ...]) for i in range(num_views)]\n"
      ],
      "metadata": {
        "id": "VpG0QK_5G5Gp"
      },
      "execution_count": null,
      "outputs": []
    },
    {
      "cell_type": "code",
      "source": [],
      "metadata": {
        "id": "X1qveQW_huL5"
      },
      "execution_count": null,
      "outputs": []
    },
    {
      "cell_type": "code",
      "source": [
        "# RGB images\n",
        "image_grid(target_images.cpu().numpy(), rows=4, cols=5, rgb=True)\n",
        "plt.show()\n",
        "# Silhouette\n",
        "image_grid(target_silhouette, rows=4, cols=5, rgb=False)\n",
        "plt.show()"
      ],
      "metadata": {
        "id": "2pKx1bD5HCHg"
      },
      "execution_count": null,
      "outputs": []
    },
    {
      "cell_type": "code",
      "source": [
        "src_mesh.textures = pytorch3d.renderer.TexturesVertex(src_mesh.verts_packed().unsqueeze(0))\n",
        "\n",
        "for j in np.random.permutation(num_views).tolist()[:num_views_per_iteration]:\n",
        "        images_predicted = renderer_textured(src_mesh, cameras=target_cameras[j], lights=lights)\n",
        "\n",
        "        plt.imshow(images_predicted[..., :3][0].detach().cpu().numpy())\n",
        "        plt.show()"
      ],
      "metadata": {
        "id": "gHm9b2-Bt3po"
      },
      "execution_count": null,
      "outputs": []
    },
    {
      "cell_type": "code",
      "source": [
        "src_mesh = ico_sphere(3, device)\n",
        "init_verts = src_mesh.verts_packed()\n",
        "\n",
        "\n",
        "# Number of views to optimize over in each SGD iteration\n",
        "num_views_per_iteration = 2\n",
        "# Number of optimization steps\n",
        "Niter = 2000\n",
        "# Plot period for the losses\n",
        "plot_period = 250\n",
        "\n",
        "%matplotlib inline\n",
        "\n",
        "# Optimize using rendered RGB image loss, rendered silhouette image loss, mesh\n",
        "# edge loss, mesh normal consistency, and mesh laplacian smoothing\n",
        "losses = {\"rgb\": {\"weight\": 1.0, \"values\": []},\n",
        "          \"silhouette\": {\"weight\": 1.0, \"values\": []},\n",
        "          \"edge\": {\"weight\": 1.0, \"values\": []},\n",
        "          \"normal\": {\"weight\": 0.01, \"values\": []},\n",
        "          \"laplacian\": {\"weight\": 1.0, \"values\": []},\n",
        "        }\n",
        "\n",
        "verts_shape = src_mesh.verts_packed().shape\n"
      ],
      "metadata": {
        "id": "5VWRf8HJIU-g"
      },
      "execution_count": null,
      "outputs": []
    },
    {
      "cell_type": "code",
      "source": [
        "model = mesh_model(verts_shape).to(device)\n",
        "loop = tqdm(range(Niter))\n",
        "# Optimizer\n",
        "opt = optim.Adam(model.parameters(), lr = 0.01, betas=(0.9, 0.999))\n",
        "harmonic_embedding_xyz = HarmonicEmbedding()\n",
        "model.train()\n",
        "\n",
        "for i in tqdm(range(Niter)):\n",
        "    # Initialize optimizer\n",
        "    opt.zero_grad()\n",
        "\n",
        "    map = harmonic_embedding_xyz(init_verts.cpu())\n",
        "\n",
        "    predict = model(map.unsqueeze(0))\n",
        "\n",
        "    # Deform the mesh\n",
        "    # new_src_mesh = src_mesh.offset_verts(deform_verts)\n",
        "    new_src_mesh = src_mesh.offset_verts(predict[:, :, :3].squeeze(0))\n",
        "\n",
        "    # Add per vertex colors to texture the mesh\n",
        "    new_src_mesh.textures = TexturesVertex(verts_features=torch.clamp(predict[:, :, 3:], 0, 255))\n",
        "\n",
        "    # Losses to smooth /regularize the mesh shape\n",
        "    loss = {k: torch.tensor(0.0, device=device) for k in losses}\n",
        "    update_mesh_shape_prior_losses(new_src_mesh, loss)\n",
        "\n",
        "    # Randomly select two views to optimize over in this iteration.  Compared\n",
        "    # to using just one view, this helps resolve ambiguities between updating\n",
        "    # mesh shape vs. updating mesh texture\n",
        "    # for j in np.random.permutation(num_views).tolist()[:num_views_per_iteration]:\n",
        "    #     images_predicted = renderer_textured(new_src_mesh, cameras=target_cameras[j], lights=lights)\n",
        "    for j in np.random.permutation(num_views).tolist()[:num_views_per_iteration]:\n",
        "        images_predicted = renderer_textured(new_src_mesh, cameras=target_cameras[j], lights=lights)\n",
        "        # Squared L2 distance between the predicted silhouette and the target\n",
        "        # silhouette from our dataset\n",
        "        predicted_silhouette = images_predicted[..., 3]\n",
        "        loss_silhouette = ((predicted_silhouette - target_silhouette[j].to(torch.int)) ** 2).sum()\n",
        "        loss[\"silhouette\"] += loss_silhouette / num_views_per_iteration\n",
        "\n",
        "        # Squared L2 distance between the predicted RGB image and the target\n",
        "        # image from our dataset\n",
        "        predicted_rgb = images_predicted[..., :3]\n",
        "        loss_rgb = ((predicted_rgb - target_rgb[j]) ** 2).sum()\n",
        "        loss[\"rgb\"] += loss_rgb / num_views_per_iteration\n",
        "\n",
        "    # Weighted sum of the losses\n",
        "    sum_loss = torch.tensor(0.0, device=device)\n",
        "    for k, l in loss.items():\n",
        "        sum_loss += l * losses[k][\"weight\"]\n",
        "        losses[k][\"values\"].append(float(l.detach().cpu()))\n",
        "\n",
        "    # Print the losses\n",
        "    loop.set_description(\"total_loss = %.6f\" % sum_loss)\n",
        "\n",
        "    # Plot mesh\n",
        "    if i % plot_period == 0:\n",
        "        visualize_prediction(new_src_mesh, target_image=target_rgb[1], renderer=renderer_textured, title=\"iter: %d\" % i, silhouette=False)\n",
        "\n",
        "\n",
        "    # Optimization step\n",
        "    sum_loss.backward()\n",
        "    opt.step()\n"
      ],
      "metadata": {
        "id": "q68lG95cnzoD"
      },
      "execution_count": null,
      "outputs": []
    },
    {
      "cell_type": "code",
      "source": [
        "color_render_mesh(new_src_mesh.detach(), \"chair\", 5, 0, renderer_textured)"
      ],
      "metadata": {
        "id": "kqIJpkxRqgL4"
      },
      "execution_count": null,
      "outputs": []
    },
    {
      "cell_type": "code",
      "source": [
        "@torch.no_grad()\n",
        "def compare_meshes(\n",
        "    pred_meshes, gt_meshes, num_samples=10000, scale=\"gt-10\", thresholds=None, reduce=True, eps=1e-8\n",
        "):\n",
        "    \"\"\"\n",
        "    Compute evaluation metrics to compare meshes. We currently compute the\n",
        "    following metrics:\n",
        "\n",
        "    - L2 Chamfer distance\n",
        "    - Normal consistency\n",
        "    - Absolute normal consistency\n",
        "    - Precision at various thresholds\n",
        "    - Recall at various thresholds\n",
        "    - F1 score at various thresholds\n",
        "\n",
        "    Inputs:\n",
        "        - pred_meshes (Meshes): Contains N predicted meshes\n",
        "        - gt_meshes (Meshes): Contains 1 or N ground-truth meshes. If gt_meshes\n",
        "          contains 1 mesh, it is replicated N times.\n",
        "        - num_samples: The number of samples to take on the surface of each mesh.\n",
        "          This can be one of the following:\n",
        "            - (int): Take that many uniform samples from the surface of the mesh\n",
        "            - 'verts': Use the vertex positions as samples for each mesh\n",
        "            - A tuple of length 2: To use different sampling strategies for the\n",
        "              predicted and ground-truth meshes (respectively).\n",
        "        - scale: How to scale the predicted and ground-truth meshes before comparing.\n",
        "          This can be one of the following:\n",
        "            - (float): Multiply the vertex positions of both meshes by this value\n",
        "            - A tuple of two floats: Multiply the vertex positions of the predicted\n",
        "              and ground-truth meshes by these two different values\n",
        "            - A string of the form 'gt-[SCALE]', where [SCALE] is a float literal.\n",
        "              In this case, each (predicted, ground-truth) pair is scaled differently,\n",
        "              so that bounding box of the (rescaled) ground-truth mesh has longest\n",
        "              edge length [SCALE].\n",
        "        - thresholds: The distance thresholds to use when computing precision, recall,\n",
        "          and F1 scores.\n",
        "        - reduce: If True, then return the average of each metric over the batch;\n",
        "          otherwise return the value of each metric between each predicted and\n",
        "          ground-truth mesh.\n",
        "        - eps: Small constant for numeric stability when computing F1 scores.\n",
        "\n",
        "    Returns:\n",
        "        - metrics: A dictionary mapping metric names to their values. If reduce is\n",
        "          True then the values are the average value of the metric over the batch;\n",
        "          otherwise the values are Tensors of shape (N,).\n",
        "    \"\"\"\n",
        "    if thresholds is None:\n",
        "        thresholds = [0.1, 0.2, 0.3, 0.4, 0.5]\n",
        "\n",
        "    pred_meshes, gt_meshes = _scale_meshes(pred_meshes, gt_meshes, scale)\n",
        "\n",
        "    if isinstance(num_samples, tuple):\n",
        "        num_samples_pred, num_samples_gt = num_samples\n",
        "    else:\n",
        "        num_samples_pred = num_samples_gt = num_samples\n",
        "\n",
        "    pred_points, pred_normals = _sample_meshes(pred_meshes, num_samples_pred)\n",
        "    gt_points, gt_normals = _sample_meshes(gt_meshes, num_samples_gt)\n",
        "    if pred_points is None:\n",
        "        logger.info(\"WARNING: Sampling predictions failed during eval\")\n",
        "        return None\n",
        "    elif gt_points is None:\n",
        "        logger.info(\"WARNING: Sampling GT failed during eval\")\n",
        "        return None\n",
        "\n",
        "    if len(gt_meshes) == 1:\n",
        "        # (1, S, 3) to (N, S, 3)\n",
        "        gt_points = gt_points.expand(len(pred_meshes), -1, -1)\n",
        "        gt_normals = gt_normals.expand(len(pred_meshes), -1, -1)\n",
        "\n",
        "    if torch.is_tensor(pred_points) and torch.is_tensor(gt_points):\n",
        "        # We can compute all metrics at once in this case\n",
        "        metrics = _compute_sampling_metrics(\n",
        "            pred_points, pred_normals, gt_points, gt_normals, thresholds, eps\n",
        "        )\n",
        "    else:\n",
        "        # Slow path when taking vert samples from non-equisized meshes; we need\n",
        "        # to iterate over the batch\n",
        "        metrics = defaultdict(list)\n",
        "        for cur_points_pred, cur_points_gt in zip(pred_points, gt_points):\n",
        "            cur_metrics = _compute_sampling_metrics(\n",
        "                cur_points_pred[None], None, cur_points_gt[None], None, thresholds, eps\n",
        "            )\n",
        "            for k, v in cur_metrics.items():\n",
        "                metrics[k].append(v.item())\n",
        "        metrics = {k: torch.tensor(vs) for k, vs in metrics.items()}\n",
        "\n",
        "    if reduce:\n",
        "        # Average each metric over the batch\n",
        "        metrics = {k: v.mean().item() for k, v in metrics.items()}\n",
        "\n",
        "    return metrics"
      ],
      "metadata": {
        "id": "ID99Jwgphpji"
      },
      "execution_count": null,
      "outputs": []
    },
    {
      "cell_type": "code",
      "source": [],
      "metadata": {
        "id": "bQNkWSFT0od0"
      },
      "execution_count": null,
      "outputs": []
    },
    {
      "cell_type": "markdown",
      "metadata": {
        "id": "akBOm_xcNUms"
      },
      "source": [
        "Save the final predicted mesh:"
      ]
    },
    {
      "cell_type": "markdown",
      "metadata": {
        "id": "dXoIsGyhxRyK"
      },
      "source": [
        "## 4. Save the final predicted mesh"
      ]
    },
    {
      "cell_type": "code",
      "execution_count": null,
      "metadata": {
        "id": "OQGhV-psKna8"
      },
      "outputs": [],
      "source": [
        "# Fetch the verts and faces of the final predicted mesh\n",
        "final_verts, final_faces = new_src_mesh.get_mesh_verts_faces(0)\n",
        "\n",
        "# Scale normalize back to the original target size\n",
        "final_verts = final_verts * scale + center\n",
        "\n",
        "# Store the predicted mesh using save_obj\n",
        "final_obj = os.path.join('./', 'final_model.obj')\n",
        "save_obj(final_obj, final_verts, final_faces)"
      ]
    },
    {
      "cell_type": "markdown",
      "metadata": {
        "id": "MtKYp0B6R1Ru"
      },
      "source": [
        "## 5. Conclusion\n",
        "In this tutorial, we learned how to load a textured mesh from an obj file, create a synthetic dataset by rendering the mesh from multiple viewpoints.  We showed how to set up an optimization loop to fit a mesh to the observed dataset images based on a rendered silhouette loss.  We then augmented this optimization loop with an additional loss based on rendered RGB images, which allowed us to predict both a mesh and its texture."
      ]
    }
  ],
  "metadata": {
    "accelerator": "GPU",
    "anp_metadata": {
      "path": "fbsource/fbcode/vision/fair/pytorch3d/docs/tutorials/fit_textured_mesh.ipynb"
    },
    "bento_stylesheets": {
      "bento/extensions/flow/main.css": true,
      "bento/extensions/kernel_selector/main.css": true,
      "bento/extensions/kernel_ui/main.css": true,
      "bento/extensions/new_kernel/main.css": true,
      "bento/extensions/system_usage/main.css": true,
      "bento/extensions/theme/main.css": true
    },
    "colab": {
      "machine_shape": "hm",
      "provenance": [],
      "gpuType": "T4"
    },
    "disseminate_notebook_info": {
      "backup_notebook_id": "781874812352022"
    },
    "kernelspec": {
      "display_name": "intro_to_cv",
      "language": "python",
      "name": "bento_kernel_intro_to_cv"
    },
    "language_info": {
      "codemirror_mode": {
        "name": "ipython",
        "version": 3
      },
      "file_extension": ".py",
      "mimetype": "text/x-python",
      "name": "python",
      "nbconvert_exporter": "python",
      "pygments_lexer": "ipython3",
      "version": "3.7.5+"
    }
  },
  "nbformat": 4,
  "nbformat_minor": 0
}